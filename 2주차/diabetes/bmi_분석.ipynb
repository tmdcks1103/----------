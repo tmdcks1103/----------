{
 "cells": [
  {
   "cell_type": "code",
   "execution_count": null,
   "id": "b7bd9d88",
   "metadata": {
    "vscode": {
     "languageId": "plaintext"
    }
   },
   "outputs": [],
   "source": [
    "# outcome 제하고 BMI 예측하는 회귀분석 코드\n",
    "\n",
    "import pandas as pd\n",
    "import numpy as np\n",
    "\n",
    "from sklearn.model_selection import train_test_split\n",
    "from sklearn.preprocessing import StandardScaler\n",
    "from sklearn.tree import DecisionTreeRegressor\n",
    "from sklearn.ensemble import RandomForestRegressor\n",
    "from sklearn.linear_model import LinearRegression\n",
    "from sklearn.metrics import mean_squared_error, mean_absolute_error, r2_score\n",
    "\n",
    "# 1) 데이터 로드\n",
    "df = pd.read_csv(\"/content/drive/MyDrive/ColabNotebooks/data/diabetes.csv\")\n",
    "\n",
    "# 2) Outcome 제거\n",
    "if 'Outcome' in df.columns:\n",
    "    df = df.drop(columns=['Outcome'])\n",
    "\n",
    "# 3) BMI 타깃의 0/NaN 행 제거\n",
    "df = df[~((df['BMI'] == 0) | (df['BMI'].isna()))].reset_index(drop=True)\n",
    "\n",
    "# 4) 입력 변수 결측/0 처리 (예: Glucose 등)\n",
    "cols_to_fix = [c for c in ['Glucose', 'BloodPressure', 'SkinThickness', 'Insulin'] if c in df.columns]\n",
    "for c in cols_to_fix:\n",
    "    df[c] = df[c].replace(0, np.nan)\n",
    "    df[c] = df[c].fillna(df[c].median())\n",
    "\n",
    "# 5) X, y 분리\n",
    "X = df.drop(columns=['BMI'])\n",
    "y = df['BMI']\n",
    "\n",
    "# 6) 학습/테스트 분할\n",
    "X_train, X_test, y_train, y_test = train_test_split(X, y, test_size=0.2, random_state=42)\n",
    "\n",
    "# 7) 스케일링 — **반드시 여기서 생성** (이 줄이 없으면 NameError 발생)\n",
    "scaler = StandardScaler()\n",
    "X_train_scaled = scaler.fit_transform(X_train)   # <-- fit_transform: 학습 데이터로 fit + transform\n",
    "X_test_scaled = scaler.transform(X_test)         # <-- transform만\n",
    "\n",
    "# (옵션) 변수 존재 확인\n",
    "print(\"X_train_scaled shape:\", X_train_scaled.shape)\n",
    "print(\"X_test_scaled shape:\", X_test_scaled.shape)\n",
    "\n",
    "# 8) 모델 정의 및 학습\n",
    "models = {\n",
    "    'LinearRegression': LinearRegression(),\n",
    "    'DecisionTree': DecisionTreeRegressor(random_state=42),\n",
    "    'RandomForest': RandomForestRegressor(n_estimators=200, random_state=42)\n",
    "}\n",
    "\n",
    "def regression_metrics(y_true, y_pred):\n",
    "    mse = mean_squared_error(y_true, y_pred)\n",
    "    rmse = np.sqrt(mse)\n",
    "    mae = mean_absolute_error(y_true, y_pred)\n",
    "    r2 = r2_score(y_true, y_pred)\n",
    "    return {'mse': mse, 'rmse': rmse, 'mae': mae, 'r2': r2}\n",
    "\n",
    "results = {}\n",
    "for name, model in models.items():\n",
    "    model.fit(X_train_scaled, y_train)           # X_train_scaled가 반드시 존재해야 함\n",
    "    y_pred = model.predict(X_test_scaled)\n",
    "    results[name] = regression_metrics(y_test, y_pred)\n",
    "    print(f\"\\n{name}: RMSE={results[name]['rmse']:.4f}, MAE={results[name]['mae']:.4f}, R2={results[name]['r2']:.4f}\")\n"
   ]
  }
 ],
 "metadata": {
  "language_info": {
   "name": "python"
  }
 },
 "nbformat": 4,
 "nbformat_minor": 5
}

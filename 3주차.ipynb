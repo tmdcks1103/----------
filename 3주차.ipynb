{
  "nbformat": 4,
  "nbformat_minor": 0,
  "metadata": {
    "colab": {
      "provenance": [],
      "mount_file_id": "1Fsayra0idt4xc_xN79-0K6TLdTWeiD8E",
      "authorship_tag": "ABX9TyNUmxbGvIDCw0IQMnVaBJ9D",
      "include_colab_link": true
    },
    "kernelspec": {
      "name": "python3",
      "display_name": "Python 3"
    },
    "language_info": {
      "name": "python"
    }
  },
  "cells": [
    {
      "cell_type": "markdown",
      "metadata": {
        "id": "view-in-github",
        "colab_type": "text"
      },
      "source": [
        "<a href=\"https://colab.research.google.com/github/tmdcks1103/Machine-Learning-Programming/blob/main/3%EC%A3%BC%EC%B0%A8.ipynb\" target=\"_parent\"><img src=\"https://colab.research.google.com/assets/colab-badge.svg\" alt=\"Open In Colab\"/></a>"
      ]
    },
    {
      "cell_type": "code",
      "execution_count": 2,
      "metadata": {
        "colab": {
          "base_uri": "https://localhost:8080/"
        },
        "id": "C62MY3ngWwhj",
        "outputId": "bb7bb7f5-4bff-45de-f5e2-7cb587306f98"
      },
      "outputs": [
        {
          "output_type": "stream",
          "name": "stdout",
          "text": [
            "결측치 확인 (Before dropping NaN):\n",
            "Area               0\n",
            "MajorAxisLength    0\n",
            "MinorAxisLength    0\n",
            "Eccentricity       0\n",
            "ConvexArea         0\n",
            "Extent             0\n",
            "Perimeter          0\n",
            "Class              0\n",
            "dtype: int64\n",
            "\n",
            "결측치 확인 (After dropping NaN):\n",
            "Area               0\n",
            "MajorAxisLength    0\n",
            "MinorAxisLength    0\n",
            "Eccentricity       0\n",
            "ConvexArea         0\n",
            "Extent             0\n",
            "Perimeter          0\n",
            "Class              0\n",
            "dtype: int64\n",
            "=== DT Test Accuracy ===\n",
            "Decision Tree : 0.8444\n",
            "[[70 20]\n",
            " [ 8 82]]\n",
            "=== RF Test Accuracy ===\n",
            "Random Forest : 0.8667\n",
            "[[71 19]\n",
            " [ 5 85]]\n",
            "=== LR Test Accuracy ===\n",
            "Logistic Reg. : 0.8889\n",
            "[[74 16]\n",
            " [ 4 86]]\n"
          ]
        }
      ],
      "source": [
        "import pandas as pd\n",
        "from sklearn.model_selection import train_test_split\n",
        "from sklearn.tree import DecisionTreeClassifier\n",
        "from sklearn.ensemble import RandomForestClassifier\n",
        "from sklearn.linear_model import LogisticRegression\n",
        "from sklearn.metrics import accuracy_score\n",
        "\n",
        "# 1) 데이터 로드\n",
        "df = pd.read_excel(\"/content/drive/MyDrive/ColabNotebooks/data/Raisin_Dataset.xlsx\")\n",
        "\n",
        "# 결측치 확인 및 제거\n",
        "print(\"결측치 확인 (Before dropping NaN):\")\n",
        "print(df.isnull().sum())\n",
        "df = df.dropna()\n",
        "print(\"\\n결측치 확인 (After dropping NaN):\")\n",
        "print(df.isnull().sum())\n",
        "\n",
        "from sklearn.preprocessing import LabelEncoder\n",
        "\n",
        "# 입력과 출력 분리\n",
        "X = df.drop(columns=[\"Class\"]) # Assuming 'Class' is the target column in the Excel file\n",
        "y = df[\"Class\"]\n",
        "\n",
        "# 만약 범주형 변수가 있다면 Label Encoding 수행 (레이블 인코딩은 X에만 적용)\n",
        "# Excel 파일의 데이터 유형을 확인해야 합니다. 여기서는 모든 컬럼이 수치형이라고 가정합니다.\n",
        "# 만약 범주형 컬럼이 있다면, 아래 코드를 사용하여 해당 컬럼만 인코딩해야 합니다.\n",
        "# for column in X.select_dtypes(include='object').columns:\n",
        "#     label_encoders[column] = LabelEncoder()\n",
        "#     X[column] = label_encoders[column].fit_transform(X[column])\n",
        "\n",
        "\n",
        "# 훈련과 테스트 데이터 분리\n",
        "X_train, X_test, y_train, y_test = train_test_split(\n",
        "    X, y, test_size=0.2, stratify=y, random_state=42\n",
        ")\n",
        "\n",
        "# 2) 모델 구성\n",
        "dt = DecisionTreeClassifier(random_state=42)\n",
        "rf = RandomForestClassifier(n_estimators=200, random_state=42)\n",
        "lr = LogisticRegression(max_iter=500)\n",
        "\n",
        "# 3) 모델 학습\n",
        "dt.fit(X_train, y_train)\n",
        "rf.fit(X_train, y_train)\n",
        "lr.fit(X_train, y_train)\n",
        "\n",
        "# 4) 예측결과 생성\n",
        "dt_y_pred = dt.predict(X_test)\n",
        "rf_y_pred = rf.predict(X_test)\n",
        "lr_y_pred = lr.predict(X_test)\n",
        "\n",
        "# 예측값 출력 (optional)\n",
        "# print(\"Decision Tree Predictions:\", dt_y_pred)\n",
        "\n",
        "\n",
        "# 5) 예측결과와 정답을 비교한 정확도 평가\n",
        "from sklearn.metrics import accuracy_score\n",
        "from sklearn.metrics import confusion_matrix\n",
        "\n",
        "dt_acc = accuracy_score(y_test, dt_y_pred)\n",
        "rf_acc = accuracy_score(y_test, rf_y_pred )\n",
        "lr_acc = accuracy_score(y_test, lr_y_pred)\n",
        "\n",
        "print(\"=== DT Test Accuracy ===\")\n",
        "print(f\"Decision Tree : {dt_acc:.4f}\")\n",
        "print (confusion_matrix(y_test,dt_y_pred))\n",
        "\n",
        "print(\"=== RF Test Accuracy ===\")\n",
        "print(f\"Random Forest : {rf_acc:.4f}\")\n",
        "print (confusion_matrix(y_test,rf_y_pred))\n",
        "\n",
        "print(\"=== LR Test Accuracy ===\")\n",
        "print(f\"Logistic Reg. : {lr_acc:.4f}\")\n",
        "print (confusion_matrix(y_test,lr_y_pred))"
      ]
    }
  ]
}
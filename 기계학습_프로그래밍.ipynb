{
  "nbformat": 4,
  "nbformat_minor": 0,
  "metadata": {
    "colab": {
      "provenance": [],
      "mount_file_id": "1XAjTyHq_v6v7DSA7eyY342PZYZDD8bMr",
      "authorship_tag": "ABX9TyMOAy9sqME5Yj9KFY0nrZ6g",
      "include_colab_link": true
    },
    "kernelspec": {
      "name": "python3",
      "display_name": "Python 3"
    },
    "language_info": {
      "name": "python"
    }
  },
  "cells": [
    {
      "cell_type": "markdown",
      "metadata": {
        "id": "view-in-github",
        "colab_type": "text"
      },
      "source": [
        "<a href=\"https://colab.research.google.com/github/tmdcks1103/Machine-Learning-Programming/blob/main/%EA%B8%B0%EA%B3%84%ED%95%99%EC%8A%B5_%ED%94%84%EB%A1%9C%EA%B7%B8%EB%9E%98%EB%B0%8D.ipynb\" target=\"_parent\"><img src=\"https://colab.research.google.com/assets/colab-badge.svg\" alt=\"Open In Colab\"/></a>"
      ]
    },
    {
      "cell_type": "markdown",
      "source": [
        "# Week 2\n"
      ],
      "metadata": {
        "id": "dvU63WC8687G"
      }
    },
    {
      "cell_type": "code",
      "execution_count": null,
      "metadata": {
        "id": "CVQhkMnpN8wg",
        "colab": {
          "base_uri": "https://localhost:8080/"
        },
        "outputId": "1d737b0b-30c3-483b-f6de-4c9b3fa1b6bb"
      },
      "outputs": [
        {
          "output_type": "stream",
          "name": "stdout",
          "text": [
            "=== Test Accuracy ===\n",
            "Decision Tree : 0.9333\n",
            "Random Forest : 0.9000\n",
            "Logistic Reg. : 0.9667\n"
          ]
        }
      ],
      "source": [
        "import pandas as pd\n",
        "\n",
        "from sklearn.model_selection import train_test_split\n",
        "\n",
        "from sklearn.tree import DecisionTreeClassifier\n",
        "\n",
        "from sklearn.ensemble import RandomForestClassifier\n",
        "\n",
        "from sklearn.linear_model import LogisticRegression\n",
        "\n",
        "from sklearn.metrics import accuracy_score\n",
        "\n",
        "\n",
        "\n",
        "# -----------------------------\n",
        "\n",
        "# 1) 데이터 준비\n",
        "\n",
        "# -----------------------------\n",
        "\n",
        "cols = [\"sepal_length\", \"sepal_width\", \"petal_length\", \"petal_width\", \"label\"]\n",
        "\n",
        "df = pd.read_csv(\"/content/drive/MyDrive/ColabNotebooks/data/iris.data\", header=None, names=cols).dropna()\n",
        "\n",
        "\n",
        "\n",
        "X = df.drop(columns=[\"label\"])\n",
        "\n",
        "y = df[\"label\"]\n",
        "\n",
        "\n",
        "\n",
        "X_train, X_test, y_train, y_test = train_test_split(\n",
        "\n",
        "    X, y, test_size=0.2, stratify=y, random_state=42\n",
        "\n",
        ")\n",
        "\n",
        "\n",
        "\n",
        "# -----------------------------\n",
        "\n",
        "# 2) 모델 구성\n",
        "\n",
        "# -----------------------------\n",
        "\n",
        "dt = DecisionTreeClassifier(random_state=42)\n",
        "\n",
        "rf = RandomForestClassifier(n_estimators=200, random_state=42)\n",
        "\n",
        "lr = LogisticRegression(max_iter=500)\n",
        "\n",
        "\n",
        "\n",
        "# -----------------------------\n",
        "\n",
        "# 3) 모델 학습\n",
        "\n",
        "# -----------------------------\n",
        "\n",
        "dt.fit(X_train, y_train)\n",
        "\n",
        "rf.fit(X_train, y_train)\n",
        "\n",
        "lr.fit(X_train, y_train)\n",
        "\n",
        "\n",
        "\n",
        "# -----------------------------\n",
        "\n",
        "# 4) 모델 평가\n",
        "\n",
        "# -----------------------------\n",
        "\n",
        "dt_acc = accuracy_score(y_test, dt.predict(X_test))\n",
        "\n",
        "rf_acc = accuracy_score(y_test, rf.predict(X_test))\n",
        "\n",
        "lr_acc = accuracy_score(y_test, lr.predict(X_test))\n",
        "\n",
        "\n",
        "\n",
        "print(\"=== Test Accuracy ===\")\n",
        "\n",
        "print(f\"Decision Tree : {dt_acc:.4f}\")\n",
        "\n",
        "print(f\"Random Forest : {rf_acc:.4f}\")\n",
        "\n",
        "print(f\"Logistic Reg. : {lr_acc:.4f}\")\n",
        "\n"
      ]
    },
    {
      "cell_type": "code",
      "source": [
        "from google.colab import drive\n",
        "drive.mount('/content/drive')"
      ],
      "metadata": {
        "colab": {
          "base_uri": "https://localhost:8080/"
        },
        "id": "BM7wHbi_S3m-",
        "outputId": "07845e78-2c42-4e20-bfcd-210fc62052be"
      },
      "execution_count": null,
      "outputs": [
        {
          "output_type": "stream",
          "name": "stdout",
          "text": [
            "Mounted at /content/drive\n"
          ]
        }
      ]
    },
    {
      "cell_type": "code",
      "source": [
        "import pandas as pd\n",
        "from sklearn.model_selection import train_test_split\n",
        "from sklearn.tree import DecisionTreeClassifier\n",
        "from sklearn.ensemble import RandomForestClassifier\n",
        "from sklearn.linear_model import LogisticRegression\n",
        "from sklearn.metrics import accuracy_score\n",
        "\n",
        "# -----------------------------\n",
        "# 1) 데이터 준비\n",
        "# -----------------------------\n",
        "# 헤더를 사용하여 데이터 파일을 올바르게 불러옵니다.\n",
        "df = pd.read_csv(\"/content/drive/MyDrive/ColabNotebooks/data/diabetes.csv\")\n",
        "\n",
        "# 입력 데이터(X)와 레이블(y)을 올바르게 정의합니다.\n",
        "X = df.drop(columns=[\"Outcome\"])\n",
        "y = df[\"Outcome\"]\n",
        "\n",
        "X_train, X_test, y_train, y_test = train_test_split(\n",
        "    X, y, test_size=0.2, stratify=y, random_state=42\n",
        ")\n",
        "\n",
        "# -----------------------------\n",
        "# 2) 모델 구성\n",
        "# -----------------------------\n",
        "dt = DecisionTreeClassifier(random_state=42)\n",
        "rf = RandomForestClassifier(n_estimators=200, random_state=42)\n",
        "lr = LogisticRegression(max_iter=500)\n",
        "\n",
        "# -----------------------------\n",
        "# 3) 모델 학습\n",
        "# -----------------------------\n",
        "dt.fit(X_train, y_train)\n",
        "rf.fit(X_train, y_train)\n",
        "lr.fit(X_train, y_train)\n",
        "\n",
        "# -----------------------------\n",
        "# 4) 모델 평가\n",
        "# -----------------------------\n",
        "dt_acc = accuracy_score(y_test, dt.predict(X_test))\n",
        "rf_acc = accuracy_score(y_test, rf.predict(X_test))\n",
        "lr_acc = accuracy_score(y_test, lr.predict(X_test))\n",
        "\n",
        "print(\"=== Test Accuracy ===\")\n",
        "print(f\"Decision Tree : {dt_acc:.4f}\")\n",
        "print(f\"Random Forest : {rf_acc:.4f}\")\n",
        "print(f\"Logistic Reg. : {lr_acc:.4f}\")"
      ],
      "metadata": {
        "id": "bDVo7_VWBzat",
        "colab": {
          "base_uri": "https://localhost:8080/"
        },
        "outputId": "51c0bc1d-6033-49fb-b8ee-d895453fd332"
      },
      "execution_count": null,
      "outputs": [
        {
          "output_type": "stream",
          "name": "stdout",
          "text": [
            "=== Test Accuracy ===\n",
            "Decision Tree : 0.7273\n",
            "Random Forest : 0.7468\n",
            "Logistic Reg. : 0.7143\n"
          ]
        }
      ]
    },
    {
      "cell_type": "code",
      "source": [
        "# outcome 제하고 BMI 예측하는 회귀분석 코드\n",
        "\n",
        "import pandas as pd\n",
        "import numpy as np\n",
        "\n",
        "from sklearn.model_selection import train_test_split\n",
        "from sklearn.preprocessing import StandardScaler\n",
        "from sklearn.tree import DecisionTreeRegressor\n",
        "from sklearn.ensemble import RandomForestRegressor\n",
        "from sklearn.linear_model import LinearRegression\n",
        "from sklearn.metrics import mean_squared_error, mean_absolute_error, r2_score\n",
        "\n",
        "# 1) 데이터 로드\n",
        "df = pd.read_csv(\"/content/drive/MyDrive/ColabNotebooks/data/diabetes.csv\")\n",
        "\n",
        "# 2) Outcome 제거\n",
        "if 'Outcome' in df.columns:\n",
        "    df = df.drop(columns=['Outcome'])\n",
        "\n",
        "# 3) BMI 타깃의 0/NaN 행 제거\n",
        "df = df[~((df['BMI'] == 0) | (df['BMI'].isna()))].reset_index(drop=True)\n",
        "\n",
        "# 4) 입력 변수 결측/0 처리 (예: Glucose 등)\n",
        "cols_to_fix = [c for c in ['Glucose', 'BloodPressure', 'SkinThickness', 'Insulin'] if c in df.columns]\n",
        "for c in cols_to_fix:\n",
        "    df[c] = df[c].replace(0, np.nan)\n",
        "    df[c] = df[c].fillna(df[c].median())\n",
        "\n",
        "# 5) X, y 분리\n",
        "X = df.drop(columns=['BMI'])\n",
        "y = df['BMI']\n",
        "\n",
        "# 6) 학습/테스트 분할\n",
        "X_train, X_test, y_train, y_test = train_test_split(X, y, test_size=0.2, random_state=42)\n",
        "\n",
        "# 7) 스케일링 — **반드시 여기서 생성** (이 줄이 없으면 NameError 발생)\n",
        "scaler = StandardScaler()\n",
        "X_train_scaled = scaler.fit_transform(X_train)   # <-- fit_transform: 학습 데이터로 fit + transform\n",
        "X_test_scaled = scaler.transform(X_test)         # <-- transform만\n",
        "\n",
        "# (옵션) 변수 존재 확인\n",
        "print(\"X_train_scaled shape:\", X_train_scaled.shape)\n",
        "print(\"X_test_scaled shape:\", X_test_scaled.shape)\n",
        "\n",
        "# 8) 모델 정의 및 학습\n",
        "models = {\n",
        "    'LinearRegression': LinearRegression(),\n",
        "    'DecisionTree': DecisionTreeRegressor(random_state=42),\n",
        "    'RandomForest': RandomForestRegressor(n_estimators=200, random_state=42)\n",
        "}\n",
        "\n",
        "def regression_metrics(y_true, y_pred):\n",
        "    mse = mean_squared_error(y_true, y_pred)\n",
        "    rmse = np.sqrt(mse)\n",
        "    mae = mean_absolute_error(y_true, y_pred)\n",
        "    r2 = r2_score(y_true, y_pred)\n",
        "    return {'mse': mse, 'rmse': rmse, 'mae': mae, 'r2': r2}\n",
        "\n",
        "results = {}\n",
        "for name, model in models.items():\n",
        "    model.fit(X_train_scaled, y_train)           # X_train_scaled가 반드시 존재해야 함\n",
        "    y_pred = model.predict(X_test_scaled)\n",
        "    results[name] = regression_metrics(y_test, y_pred)\n",
        "    print(f\"\\n{name}: RMSE={results[name]['rmse']:.4f}, MAE={results[name]['mae']:.4f}, R2={results[name]['r2']:.4f}\")\n"
      ],
      "metadata": {
        "id": "W3wtEBMksDpi",
        "colab": {
          "base_uri": "https://localhost:8080/"
        },
        "outputId": "9c68c8e3-81c1-4798-c44a-83b3dfb807a0"
      },
      "execution_count": null,
      "outputs": [
        {
          "output_type": "stream",
          "name": "stdout",
          "text": [
            "X_train_scaled shape: (605, 7)\n",
            "X_test_scaled shape: (152, 7)\n",
            "\n",
            "LinearRegression: RMSE=5.0510, MAE=4.0198, R2=0.3717\n",
            "\n",
            "DecisionTree: RMSE=7.7547, MAE=5.8862, R2=-0.4811\n",
            "\n",
            "RandomForest: RMSE=5.0072, MAE=3.8808, R2=0.3825\n"
          ]
        }
      ]
    },
    {
      "cell_type": "markdown",
      "source": [],
      "metadata": {
        "id": "BOpGXznnuOBI"
      }
    },
    {
      "cell_type": "code",
      "source": [
        "import pandas as pd\n",
        "from sklearn.model_selection import train_test_split\n",
        "from sklearn.tree import DecisionTreeClassifier\n",
        "from sklearn.ensemble import RandomForestClassifier\n",
        "from sklearn.linear_model import LogisticRegression\n",
        "from sklearn.metrics import accuracy_score\n",
        "\n",
        "# -----------------------------\n",
        "# 1) 데이터 준비\n",
        "# -----------------------------\n",
        "# 헤더를 사용하여 데이터 파일을 올바르게 불러옵니다.\n",
        "df = pd.read_csv(\"/content/drive/MyDrive/ColabNotebooks/data/breast_cancer.csv\")\n",
        "\n",
        "# 입력 데이터(X)와 레이블(y)을 올바르게 정의합니다.\n",
        "# 'breast_cancer.csv'의 타겟 컬럼은 'label'입니다.\n",
        "X = df.drop(columns=[\"label\"])\n",
        "y = df[\"label\"]\n",
        "\n",
        "X_train, X_test, y_train, y_test = train_test_split(\n",
        "    X, y, test_size=0.2, stratify=y, random_state=42\n",
        ")\n",
        "\n",
        "# -----------------------------\n",
        "# 2) 모델 구성\n",
        "# -----------------------------\n",
        "dt = DecisionTreeClassifier(random_state=42)\n",
        "rf = RandomForestClassifier(n_estimators=200, random_state=42)\n",
        "lr = LogisticRegression(max_iter=500)\n",
        "\n",
        "# -----------------------------\n",
        "# 3) 모델 학습\n",
        "# -----------------------------\n",
        "dt.fit(X_train, y_train)\n",
        "rf.fit(X_train, y_train)\n",
        "lr.fit(X_train, y_train)\n",
        "\n",
        "# -----------------------------\n",
        "# 4) 모델 평가\n",
        "# -----------------------------\n",
        "dt_acc = accuracy_score(y_test, dt.predict(X_test))\n",
        "rf_acc = accuracy_score(y_test, rf.predict(X_test))\n",
        "lr_acc = accuracy_score(y_test, lr.predict(X_test))\n",
        "\n",
        "print(\"=== Test Accuracy ===\")\n",
        "print(f\"Decision Tree : {dt_acc:.4f}\")\n",
        "print(f\"Random Forest : {rf_acc:.4f}\")\n",
        "print(f\"Logistic Reg. : {lr_acc:.4f}\")"
      ],
      "metadata": {
        "colab": {
          "base_uri": "https://localhost:8080/"
        },
        "id": "IJeYI_hSLm3j",
        "outputId": "e678c6d2-5a77-4d22-e74c-0c7df4291a01"
      },
      "execution_count": null,
      "outputs": [
        {
          "output_type": "stream",
          "name": "stdout",
          "text": [
            "=== Test Accuracy ===\n",
            "Decision Tree : 0.9035\n",
            "Random Forest : 0.9561\n",
            "Logistic Reg. : 0.9825\n"
          ]
        },
        {
          "output_type": "stream",
          "name": "stderr",
          "text": [
            "/usr/local/lib/python3.12/dist-packages/sklearn/linear_model/_logistic.py:465: ConvergenceWarning: lbfgs failed to converge (status=1):\n",
            "STOP: TOTAL NO. OF ITERATIONS REACHED LIMIT.\n",
            "\n",
            "Increase the number of iterations (max_iter) or scale the data as shown in:\n",
            "    https://scikit-learn.org/stable/modules/preprocessing.html\n",
            "Please also refer to the documentation for alternative solver options:\n",
            "    https://scikit-learn.org/stable/modules/linear_model.html#logistic-regression\n",
            "  n_iter_i = _check_optimize_result(\n"
          ]
        }
      ]
    },
    {
      "cell_type": "code",
      "source": [
        "import pandas as pd\n",
        "from sklearn.model_selection import train_test_split\n",
        "from sklearn.tree import DecisionTreeClassifier\n",
        "from sklearn.ensemble import RandomForestClassifier\n",
        "from sklearn.linear_model import LogisticRegression\n",
        "from sklearn.metrics import accuracy_score\n",
        "\n",
        "# -----------------------------\n",
        "# 1) 데이터 준비\n",
        "# -----------------------------\n",
        "# 파일을 불러와서 실제 컬럼명을 확인합니다.\n",
        "file_path = \"/content/drive/MyDrive/ColabNotebooks/data/car_evaluation.csv\" # 파일 경로를 지정하세요.\n",
        "df = pd.read_csv(file_path)\n",
        "\n",
        "# 마지막 컬럼을 타겟 변수로 자동 설정합니다.\n",
        "target_column = df.columns[-1]\n",
        "\n",
        "# 입력 데이터(X)와 레이블(y)을 정의합니다.\n",
        "X = df.drop(columns=[target_column])\n",
        "y = df[target_column]\n",
        "\n",
        "# 만약 데이터에 범주형 변수가 있다면, 원-핫 인코딩으로 전처리합니다.\n",
        "if X.select_dtypes(include='object').empty:\n",
        "    pass\n",
        "else:\n",
        "    print(\"범주형 변수를 원-핫 인코딩합니다.\")\n",
        "    X = pd.get_dummies(X)\n",
        "\n",
        "X_train, X_test, y_train, y_test = train_test_split(\n",
        "    X, y, test_size=0.2, stratify=y, random_state=42\n",
        ")\n",
        "\n",
        "# -----------------------------\n",
        "# 2) 모델 구성 (3가지)\n",
        "# -----------------------------\n",
        "dt = DecisionTreeClassifier(random_state=42)\n",
        "rf = RandomForestClassifier(n_estimators=200, random_state=42)\n",
        "lr = LogisticRegression(max_iter=500)\n",
        "\n",
        "# -----------------------------\n",
        "# 3) 모델 학습\n",
        "# -----------------------------\n",
        "dt.fit(X_train, y_train)\n",
        "rf.fit(X_train, y_train)\n",
        "lr.fit(X_train, y_train)\n",
        "\n",
        "# -----------------------------\n",
        "# 4) 모델 평가\n",
        "# -----------------------------\n",
        "dt_acc = accuracy_score(y_test, dt.predict(X_test))\n",
        "rf_acc = accuracy_score(y_test, rf.predict(X_test))\n",
        "lr_acc = accuracy_score(y_test, lr.predict(X_test))\n",
        "\n",
        "print(\"=== Test Accuracy ===\")\n",
        "print(f\"Decision Tree : {dt_acc:.4f}\")\n",
        "print(f\"Random Forest : {rf_acc:.4f}\")\n",
        "print(f\"Logistic Reg. : {lr_acc:.4f}\")"
      ],
      "metadata": {
        "id": "WErl-BASPqmC",
        "colab": {
          "base_uri": "https://localhost:8080/"
        },
        "outputId": "922cf98d-5d73-4f98-8320-b062bd0164eb"
      },
      "execution_count": null,
      "outputs": [
        {
          "output_type": "stream",
          "name": "stdout",
          "text": [
            "범주형 변수를 원-핫 인코딩합니다.\n",
            "=== Test Accuracy ===\n",
            "Decision Tree : 0.9740\n",
            "Random Forest : 0.9798\n",
            "Logistic Reg. : 0.9017\n"
          ]
        }
      ]
    },
    {
      "cell_type": "markdown",
      "source": [
        "# Week 3"
      ],
      "metadata": {
        "id": "wIj7oxFI7FoT"
      }
    },
    {
      "cell_type": "code",
      "source": [
        "import pandas as pd\n",
        "from sklearn.model_selection import train_test_split\n",
        "from sklearn.tree import DecisionTreeClassifier\n",
        "from sklearn.ensemble import RandomForestClassifier\n",
        "from sklearn.linear_model import LogisticRegression\n",
        "from sklearn.metrics import accuracy_score\n",
        "\n",
        "# 1) 데이터 로드\n",
        "df = pd.read_excel(\"/content/drive/MyDrive/ColabNotebooks/data/Raisin_Dataset.xlsx\")\n",
        "\n",
        "# 결측치 확인 및 제거\n",
        "print(\"결측치 확인 (Before dropping NaN):\")\n",
        "print(df.isnull().sum())\n",
        "df = df.dropna()\n",
        "print(\"\\n결측치 확인 (After dropping NaN):\")\n",
        "print(df.isnull().sum())\n",
        "\n",
        "from sklearn.preprocessing import LabelEncoder\n",
        "\n",
        "# 입력과 출력 분리\n",
        "X = df.drop(columns=[\"Class\"]) # Assuming 'Class' is the target column in the Excel file\n",
        "y = df[\"Class\"]\n",
        "\n",
        "# 만약 범주형 변수가 있다면 Label Encoding 수행 (레이블 인코딩은 X에만 적용)\n",
        "# Excel 파일의 데이터 유형을 확인해야 합니다. 여기서는 모든 컬럼이 수치형이라고 가정합니다.\n",
        "# 만약 범주형 컬럼이 있다면, 아래 코드를 사용하여 해당 컬럼만 인코딩해야 합니다.\n",
        "# for column in X.select_dtypes(include='object').columns:\n",
        "#     label_encoders[column] = LabelEncoder()\n",
        "#     X[column] = label_encoders[column].fit_transform(X[column])\n",
        "\n",
        "\n",
        "# 훈련과 테스트 데이터 분리\n",
        "X_train, X_test, y_train, y_test = train_test_split(\n",
        "    X, y, test_size=0.2, stratify=y, random_state=42\n",
        ")\n",
        "\n",
        "# 2) 모델 구성\n",
        "dt = DecisionTreeClassifier(random_state=42)\n",
        "rf = RandomForestClassifier(n_estimators=200, random_state=42)\n",
        "lr = LogisticRegression(max_iter=500)\n",
        "\n",
        "# 3) 모델 학습\n",
        "dt.fit(X_train, y_train)\n",
        "rf.fit(X_train, y_train)\n",
        "lr.fit(X_train, y_train)\n",
        "\n",
        "# 4) 예측결과 생성\n",
        "dt_y_pred = dt.predict(X_test)\n",
        "rf_y_pred = rf.predict(X_test)\n",
        "lr_y_pred = lr.predict(X_test)\n",
        "\n",
        "# 예측값 출력 (optional)\n",
        "# print(\"Decision Tree Predictions:\", dt_y_pred)\n",
        "\n",
        "\n",
        "# 5) 예측결과와 정답을 비교한 정확도 평가\n",
        "from sklearn.metrics import accuracy_score\n",
        "from sklearn.metrics import confusion_matrix\n",
        "\n",
        "dt_acc = accuracy_score(y_test, dt_y_pred)\n",
        "rf_acc = accuracy_score(y_test, rf_y_pred )\n",
        "lr_acc = accuracy_score(y_test, lr_y_pred)\n",
        "\n",
        "print(\"=== DT Test Accuracy ===\")\n",
        "print(f\"Decision Tree : {dt_acc:.4f}\")\n",
        "print (confusion_matrix(y_test,dt_y_pred))\n",
        "\n",
        "print(\"=== RF Test Accuracy ===\")\n",
        "print(f\"Random Forest : {rf_acc:.4f}\")\n",
        "print (confusion_matrix(y_test,rf_y_pred))\n",
        "\n",
        "print(\"=== LR Test Accuracy ===\")\n",
        "print(f\"Logistic Reg. : {lr_acc:.4f}\")\n",
        "print (confusion_matrix(y_test,lr_y_pred))"
      ],
      "metadata": {
        "id": "3fEiy2fu7Ktx",
        "colab": {
          "base_uri": "https://localhost:8080/"
        },
        "outputId": "d41d545f-1ac6-4adb-a6d6-d28c104e9896"
      },
      "execution_count": 5,
      "outputs": [
        {
          "output_type": "stream",
          "name": "stdout",
          "text": [
            "결측치 확인 (Before dropping NaN):\n",
            "Area               0\n",
            "MajorAxisLength    0\n",
            "MinorAxisLength    0\n",
            "Eccentricity       0\n",
            "ConvexArea         0\n",
            "Extent             0\n",
            "Perimeter          0\n",
            "Class              0\n",
            "dtype: int64\n",
            "\n",
            "결측치 확인 (After dropping NaN):\n",
            "Area               0\n",
            "MajorAxisLength    0\n",
            "MinorAxisLength    0\n",
            "Eccentricity       0\n",
            "ConvexArea         0\n",
            "Extent             0\n",
            "Perimeter          0\n",
            "Class              0\n",
            "dtype: int64\n",
            "=== DT Test Accuracy ===\n",
            "Decision Tree : 0.8444\n",
            "[[70 20]\n",
            " [ 8 82]]\n",
            "=== RF Test Accuracy ===\n",
            "Random Forest : 0.8667\n",
            "[[71 19]\n",
            " [ 5 85]]\n",
            "=== LR Test Accuracy ===\n",
            "Logistic Reg. : 0.8889\n",
            "[[74 16]\n",
            " [ 4 86]]\n"
          ]
        }
      ]
    }
  ]
}